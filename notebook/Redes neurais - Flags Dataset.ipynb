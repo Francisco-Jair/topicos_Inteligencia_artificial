{
 "cells": [
  {
   "cell_type": "code",
   "execution_count": 67,
   "metadata": {},
   "outputs": [],
   "source": [
    "import numpy as np \n",
    "import pandas as pd\n",
    "from sklearn.neural_network import MLPClassifier\n",
    "from sklearn.preprocessing import StandardScaler\n",
    "from sklearn.model_selection import train_test_split"
   ]
  },
  {
   "cell_type": "code",
   "execution_count": null,
   "metadata": {},
   "outputs": [],
   "source": []
  },
  {
   "cell_type": "code",
   "execution_count": 68,
   "metadata": {},
   "outputs": [],
   "source": [
    "names = [\"name\",\"landmass\",\"zone\",\"area\",\"population\",\"language\",\"religion\",\n",
    "                         \"bars\",\"stripes\",\"colours\",\"red\",\"green\",\"blue\",\"gold\",\"white\",\"black\",\"orange\",\n",
    "                         \"mainhue\",\"circles\",\"crosses\",\"saltires\",\"quarters\",\"sunstars\",\"crescent\",\n",
    "                        \"triangle\",\"icon\",\"animate\",\"text\",\"topleft\",\"botright\"]"
   ]
  },
  {
   "cell_type": "code",
   "execution_count": 69,
   "metadata": {},
   "outputs": [],
   "source": [
    "flags = pd.read_csv(\"../flag.data\", names = names  , header=None) #header=None\n",
    "flags['topleft'].unique()\n",
    "flags = flags.drop(columns=[\"name\", \"topleft\", \"mainhue\"])"
   ]
  },
  {
   "cell_type": "code",
   "execution_count": 70,
   "metadata": {},
   "outputs": [],
   "source": [
    "c = flags[\"botright\"].unique()\n"
   ]
  },
  {
   "cell_type": "code",
   "execution_count": 71,
   "metadata": {},
   "outputs": [
    {
     "data": {
      "text/plain": [
       "{'green': 0,\n",
       " 'red': 1,\n",
       " 'white': 2,\n",
       " 'black': 3,\n",
       " 'blue': 4,\n",
       " 'gold': 5,\n",
       " 'orange': 6,\n",
       " 'brown': 7}"
      ]
     },
     "execution_count": 71,
     "metadata": {},
     "output_type": "execute_result"
    }
   ],
   "source": [
    "dicte = dict()\n",
    "i=0\n",
    "for classes in (c):\n",
    "    dicte[classes] = i\n",
    "    i = i + 1\n",
    "\n",
    "dicte"
   ]
  },
  {
   "cell_type": "code",
   "execution_count": 72,
   "metadata": {},
   "outputs": [],
   "source": [
    "flags[\"botright\"] = flags[\"botright\"].replace(dicte)"
   ]
  },
  {
   "cell_type": "code",
   "execution_count": 73,
   "metadata": {},
   "outputs": [
    {
     "data": {
      "text/plain": [
       "\"\\nvalores_unicos = flags['topleft'].unique()\\ntotal_valores = len(valores_unicos)\\nmapeamento = dict(zip(valores_unicos, range(total_valores)))\\nflags['topleft'] = flags['topleft'].replace(mapeamento)\\n\""
      ]
     },
     "execution_count": 73,
     "metadata": {},
     "output_type": "execute_result"
    }
   ],
   "source": [
    "\"\"\"\n",
    "valores_unicos = flags['topleft'].unique()\n",
    "total_valores = len(valores_unicos)\n",
    "mapeamento = dict(zip(valores_unicos, range(total_valores)))\n",
    "flags['topleft'] = flags['topleft'].replace(mapeamento)\n",
    "\"\"\""
   ]
  },
  {
   "cell_type": "code",
   "execution_count": 74,
   "metadata": {},
   "outputs": [
    {
     "data": {
      "text/plain": [
       "landmass      int64\n",
       "zone          int64\n",
       "area          int64\n",
       "population    int64\n",
       "language      int64\n",
       "religion      int64\n",
       "bars          int64\n",
       "stripes       int64\n",
       "colours       int64\n",
       "red           int64\n",
       "green         int64\n",
       "blue          int64\n",
       "gold          int64\n",
       "white         int64\n",
       "black         int64\n",
       "orange        int64\n",
       "circles       int64\n",
       "crosses       int64\n",
       "saltires      int64\n",
       "quarters      int64\n",
       "sunstars      int64\n",
       "crescent      int64\n",
       "triangle      int64\n",
       "icon          int64\n",
       "animate       int64\n",
       "text          int64\n",
       "botright      int64\n",
       "dtype: object"
      ]
     },
     "execution_count": 74,
     "metadata": {},
     "output_type": "execute_result"
    }
   ],
   "source": [
    "flags.dtypes"
   ]
  },
  {
   "cell_type": "code",
   "execution_count": 75,
   "metadata": {},
   "outputs": [
    {
     "data": {
      "text/html": [
       "<div>\n",
       "<style scoped>\n",
       "    .dataframe tbody tr th:only-of-type {\n",
       "        vertical-align: middle;\n",
       "    }\n",
       "\n",
       "    .dataframe tbody tr th {\n",
       "        vertical-align: top;\n",
       "    }\n",
       "\n",
       "    .dataframe thead th {\n",
       "        text-align: right;\n",
       "    }\n",
       "</style>\n",
       "<table border=\"1\" class=\"dataframe\">\n",
       "  <thead>\n",
       "    <tr style=\"text-align: right;\">\n",
       "      <th></th>\n",
       "      <th>landmass</th>\n",
       "      <th>zone</th>\n",
       "      <th>area</th>\n",
       "      <th>population</th>\n",
       "      <th>language</th>\n",
       "      <th>religion</th>\n",
       "      <th>bars</th>\n",
       "      <th>stripes</th>\n",
       "      <th>colours</th>\n",
       "      <th>red</th>\n",
       "      <th>...</th>\n",
       "      <th>crosses</th>\n",
       "      <th>saltires</th>\n",
       "      <th>quarters</th>\n",
       "      <th>sunstars</th>\n",
       "      <th>crescent</th>\n",
       "      <th>triangle</th>\n",
       "      <th>icon</th>\n",
       "      <th>animate</th>\n",
       "      <th>text</th>\n",
       "      <th>botright</th>\n",
       "    </tr>\n",
       "  </thead>\n",
       "  <tbody>\n",
       "    <tr>\n",
       "      <th>0</th>\n",
       "      <td>5</td>\n",
       "      <td>1</td>\n",
       "      <td>648</td>\n",
       "      <td>16</td>\n",
       "      <td>10</td>\n",
       "      <td>2</td>\n",
       "      <td>0</td>\n",
       "      <td>3</td>\n",
       "      <td>5</td>\n",
       "      <td>1</td>\n",
       "      <td>...</td>\n",
       "      <td>0</td>\n",
       "      <td>0</td>\n",
       "      <td>0</td>\n",
       "      <td>1</td>\n",
       "      <td>0</td>\n",
       "      <td>0</td>\n",
       "      <td>1</td>\n",
       "      <td>0</td>\n",
       "      <td>0</td>\n",
       "      <td>0</td>\n",
       "    </tr>\n",
       "    <tr>\n",
       "      <th>1</th>\n",
       "      <td>3</td>\n",
       "      <td>1</td>\n",
       "      <td>29</td>\n",
       "      <td>3</td>\n",
       "      <td>6</td>\n",
       "      <td>6</td>\n",
       "      <td>0</td>\n",
       "      <td>0</td>\n",
       "      <td>3</td>\n",
       "      <td>1</td>\n",
       "      <td>...</td>\n",
       "      <td>0</td>\n",
       "      <td>0</td>\n",
       "      <td>0</td>\n",
       "      <td>1</td>\n",
       "      <td>0</td>\n",
       "      <td>0</td>\n",
       "      <td>0</td>\n",
       "      <td>1</td>\n",
       "      <td>0</td>\n",
       "      <td>1</td>\n",
       "    </tr>\n",
       "    <tr>\n",
       "      <th>2</th>\n",
       "      <td>4</td>\n",
       "      <td>1</td>\n",
       "      <td>2388</td>\n",
       "      <td>20</td>\n",
       "      <td>8</td>\n",
       "      <td>2</td>\n",
       "      <td>2</td>\n",
       "      <td>0</td>\n",
       "      <td>3</td>\n",
       "      <td>1</td>\n",
       "      <td>...</td>\n",
       "      <td>0</td>\n",
       "      <td>0</td>\n",
       "      <td>0</td>\n",
       "      <td>1</td>\n",
       "      <td>1</td>\n",
       "      <td>0</td>\n",
       "      <td>0</td>\n",
       "      <td>0</td>\n",
       "      <td>0</td>\n",
       "      <td>2</td>\n",
       "    </tr>\n",
       "    <tr>\n",
       "      <th>3</th>\n",
       "      <td>6</td>\n",
       "      <td>3</td>\n",
       "      <td>0</td>\n",
       "      <td>0</td>\n",
       "      <td>1</td>\n",
       "      <td>1</td>\n",
       "      <td>0</td>\n",
       "      <td>0</td>\n",
       "      <td>5</td>\n",
       "      <td>1</td>\n",
       "      <td>...</td>\n",
       "      <td>0</td>\n",
       "      <td>0</td>\n",
       "      <td>0</td>\n",
       "      <td>0</td>\n",
       "      <td>0</td>\n",
       "      <td>1</td>\n",
       "      <td>1</td>\n",
       "      <td>1</td>\n",
       "      <td>0</td>\n",
       "      <td>1</td>\n",
       "    </tr>\n",
       "    <tr>\n",
       "      <th>4</th>\n",
       "      <td>3</td>\n",
       "      <td>1</td>\n",
       "      <td>0</td>\n",
       "      <td>0</td>\n",
       "      <td>6</td>\n",
       "      <td>0</td>\n",
       "      <td>3</td>\n",
       "      <td>0</td>\n",
       "      <td>3</td>\n",
       "      <td>1</td>\n",
       "      <td>...</td>\n",
       "      <td>0</td>\n",
       "      <td>0</td>\n",
       "      <td>0</td>\n",
       "      <td>0</td>\n",
       "      <td>0</td>\n",
       "      <td>0</td>\n",
       "      <td>0</td>\n",
       "      <td>0</td>\n",
       "      <td>0</td>\n",
       "      <td>1</td>\n",
       "    </tr>\n",
       "    <tr>\n",
       "      <th>5</th>\n",
       "      <td>4</td>\n",
       "      <td>2</td>\n",
       "      <td>1247</td>\n",
       "      <td>7</td>\n",
       "      <td>10</td>\n",
       "      <td>5</td>\n",
       "      <td>0</td>\n",
       "      <td>2</td>\n",
       "      <td>3</td>\n",
       "      <td>1</td>\n",
       "      <td>...</td>\n",
       "      <td>0</td>\n",
       "      <td>0</td>\n",
       "      <td>0</td>\n",
       "      <td>1</td>\n",
       "      <td>0</td>\n",
       "      <td>0</td>\n",
       "      <td>1</td>\n",
       "      <td>0</td>\n",
       "      <td>0</td>\n",
       "      <td>3</td>\n",
       "    </tr>\n",
       "    <tr>\n",
       "      <th>6</th>\n",
       "      <td>1</td>\n",
       "      <td>4</td>\n",
       "      <td>0</td>\n",
       "      <td>0</td>\n",
       "      <td>1</td>\n",
       "      <td>1</td>\n",
       "      <td>0</td>\n",
       "      <td>1</td>\n",
       "      <td>3</td>\n",
       "      <td>0</td>\n",
       "      <td>...</td>\n",
       "      <td>0</td>\n",
       "      <td>0</td>\n",
       "      <td>0</td>\n",
       "      <td>0</td>\n",
       "      <td>0</td>\n",
       "      <td>0</td>\n",
       "      <td>0</td>\n",
       "      <td>1</td>\n",
       "      <td>0</td>\n",
       "      <td>4</td>\n",
       "    </tr>\n",
       "    <tr>\n",
       "      <th>7</th>\n",
       "      <td>1</td>\n",
       "      <td>4</td>\n",
       "      <td>0</td>\n",
       "      <td>0</td>\n",
       "      <td>1</td>\n",
       "      <td>1</td>\n",
       "      <td>0</td>\n",
       "      <td>1</td>\n",
       "      <td>5</td>\n",
       "      <td>1</td>\n",
       "      <td>...</td>\n",
       "      <td>0</td>\n",
       "      <td>0</td>\n",
       "      <td>0</td>\n",
       "      <td>1</td>\n",
       "      <td>0</td>\n",
       "      <td>1</td>\n",
       "      <td>0</td>\n",
       "      <td>0</td>\n",
       "      <td>0</td>\n",
       "      <td>1</td>\n",
       "    </tr>\n",
       "    <tr>\n",
       "      <th>8</th>\n",
       "      <td>2</td>\n",
       "      <td>3</td>\n",
       "      <td>2777</td>\n",
       "      <td>28</td>\n",
       "      <td>2</td>\n",
       "      <td>0</td>\n",
       "      <td>0</td>\n",
       "      <td>3</td>\n",
       "      <td>2</td>\n",
       "      <td>0</td>\n",
       "      <td>...</td>\n",
       "      <td>0</td>\n",
       "      <td>0</td>\n",
       "      <td>0</td>\n",
       "      <td>0</td>\n",
       "      <td>0</td>\n",
       "      <td>0</td>\n",
       "      <td>0</td>\n",
       "      <td>0</td>\n",
       "      <td>0</td>\n",
       "      <td>4</td>\n",
       "    </tr>\n",
       "    <tr>\n",
       "      <th>9</th>\n",
       "      <td>2</td>\n",
       "      <td>3</td>\n",
       "      <td>2777</td>\n",
       "      <td>28</td>\n",
       "      <td>2</td>\n",
       "      <td>0</td>\n",
       "      <td>0</td>\n",
       "      <td>3</td>\n",
       "      <td>3</td>\n",
       "      <td>0</td>\n",
       "      <td>...</td>\n",
       "      <td>0</td>\n",
       "      <td>0</td>\n",
       "      <td>0</td>\n",
       "      <td>1</td>\n",
       "      <td>0</td>\n",
       "      <td>0</td>\n",
       "      <td>0</td>\n",
       "      <td>0</td>\n",
       "      <td>0</td>\n",
       "      <td>4</td>\n",
       "    </tr>\n",
       "  </tbody>\n",
       "</table>\n",
       "<p>10 rows × 27 columns</p>\n",
       "</div>"
      ],
      "text/plain": [
       "   landmass  zone  area  population  language  religion  bars  stripes  \\\n",
       "0         5     1   648          16        10         2     0        3   \n",
       "1         3     1    29           3         6         6     0        0   \n",
       "2         4     1  2388          20         8         2     2        0   \n",
       "3         6     3     0           0         1         1     0        0   \n",
       "4         3     1     0           0         6         0     3        0   \n",
       "5         4     2  1247           7        10         5     0        2   \n",
       "6         1     4     0           0         1         1     0        1   \n",
       "7         1     4     0           0         1         1     0        1   \n",
       "8         2     3  2777          28         2         0     0        3   \n",
       "9         2     3  2777          28         2         0     0        3   \n",
       "\n",
       "   colours  red  ...  crosses  saltires  quarters  sunstars  crescent  \\\n",
       "0        5    1  ...        0         0         0         1         0   \n",
       "1        3    1  ...        0         0         0         1         0   \n",
       "2        3    1  ...        0         0         0         1         1   \n",
       "3        5    1  ...        0         0         0         0         0   \n",
       "4        3    1  ...        0         0         0         0         0   \n",
       "5        3    1  ...        0         0         0         1         0   \n",
       "6        3    0  ...        0         0         0         0         0   \n",
       "7        5    1  ...        0         0         0         1         0   \n",
       "8        2    0  ...        0         0         0         0         0   \n",
       "9        3    0  ...        0         0         0         1         0   \n",
       "\n",
       "   triangle  icon  animate  text  botright  \n",
       "0         0     1        0     0         0  \n",
       "1         0     0        1     0         1  \n",
       "2         0     0        0     0         2  \n",
       "3         1     1        1     0         1  \n",
       "4         0     0        0     0         1  \n",
       "5         0     1        0     0         3  \n",
       "6         0     0        1     0         4  \n",
       "7         1     0        0     0         1  \n",
       "8         0     0        0     0         4  \n",
       "9         0     0        0     0         4  \n",
       "\n",
       "[10 rows x 27 columns]"
      ]
     },
     "execution_count": 75,
     "metadata": {},
     "output_type": "execute_result"
    }
   ],
   "source": [
    "flags.head(10)"
   ]
  },
  {
   "cell_type": "code",
   "execution_count": null,
   "metadata": {},
   "outputs": [],
   "source": []
  },
  {
   "cell_type": "markdown",
   "metadata": {},
   "source": [
    "### K-means"
   ]
  },
  {
   "cell_type": "code",
   "execution_count": 76,
   "metadata": {},
   "outputs": [],
   "source": [
    "import pandas as pd\n",
    "import numpy as np\n",
    "from sklearn.cluster import KMeans"
   ]
  },
  {
   "cell_type": "code",
   "execution_count": 77,
   "metadata": {},
   "outputs": [
    {
     "name": "stdout",
     "output_type": "stream",
     "text": [
      "uniques(landmass):[5 3 4 6 1 2]\n",
      "uniques(zone):[1 3 2 4]\n",
      "uniques(area):[  648    29  2388     0  1247  2777  7690    84    19     1   143    31\n",
      "    23   113    47  1099   600  8512     6   111   274   678    28   474\n",
      "  9976     4   623  1284   757  9561  1139     2   342    51   115     9\n",
      "   128    43    22    49   284  1001    21  1222    12    18   337   547\n",
      "    91   268    10   108   249   239   132  2176   109   246    36   215\n",
      "   112    93   103  3268  1904  1648   435    70   301   323    11   372\n",
      "    98   181   583   236    30  1760     3   587   118   333  1240  1031\n",
      "  1973  1566   447   783   140    41  1267   925   121   195   324   212\n",
      "   804    76   463   407  1285   300   313    92   237    26  2150   196\n",
      "    72   637  1221    99   288   505    66  2506    63    17   450   185\n",
      "   945   514    57     5   164   781   245   178  9363 22402    15   912\n",
      "   256   905   753   391]\n",
      "uniques(population):[  16    3   20    0    7   28   15    8   90   10    1    6  119    9\n",
      "   35    4   24    2   11 1008    5   47   31   54   17   61   14  684\n",
      "  157   39   57  118   13   77   12   56   18   84   48   36   22   29\n",
      "   38   49   45  231  274   60]\n",
      "uniques(language):[10  6  8  1  2  4  3  5  7  9]\n",
      "uniques(religion):[2 6 1 0 5 3 4 7]\n",
      "uniques(bars):[0 2 3 1 5]\n",
      "uniques(stripes):[ 3  0  2  1  5  9 11 14  4  6 13  7]\n",
      "uniques(colours):[5 3 2 8 6 4 7 1]\n",
      "uniques(red):[1 0]\n",
      "uniques(green):[1 0]\n",
      "uniques(blue):[0 1]\n",
      "uniques(gold):[1 0]\n",
      "uniques(white):[1 0]\n",
      "uniques(black):[1 0]\n",
      "uniques(orange):[0 1]\n",
      "uniques(circles):[0 1 4 2]\n",
      "uniques(crosses):[0 1 2]\n",
      "uniques(saltires):[0 1]\n",
      "uniques(quarters):[0 1 4]\n",
      "uniques(sunstars):[ 1  0  6 22 14  3  4  5 15 10  7  2  9 50]\n",
      "uniques(crescent):[0 1]\n",
      "uniques(triangle):[0 1]\n",
      "uniques(icon):[1 0]\n",
      "uniques(animate):[0 1]\n",
      "uniques(text):[0 1]\n",
      "uniques(botright):[0 1 2 3 4 5 6 7]\n"
     ]
    }
   ],
   "source": [
    "for column in flags.columns:\n",
    "    if column != 'Sample code number':\n",
    "        print(\"uniques({}):{}\".format(column, flags[column].unique()))"
   ]
  },
  {
   "cell_type": "code",
   "execution_count": 78,
   "metadata": {},
   "outputs": [
    {
     "data": {
      "text/plain": [
       "(194, 27)"
      ]
     },
     "execution_count": 78,
     "metadata": {},
     "output_type": "execute_result"
    }
   ],
   "source": [
    "flags.shape"
   ]
  },
  {
   "cell_type": "code",
   "execution_count": 79,
   "metadata": {},
   "outputs": [],
   "source": [
    "#x = flags.drop([\"religion\"], axis = 1)\n",
    "x = flags.drop('religion', axis=1)\n",
    "y = flags['religion']"
   ]
  },
  {
   "cell_type": "code",
   "execution_count": 91,
   "metadata": {},
   "outputs": [],
   "source": [
    "cluster_algo = KMeans(n_clusters=2)"
   ]
  },
  {
   "cell_type": "code",
   "execution_count": 92,
   "metadata": {},
   "outputs": [],
   "source": [
    "y = cluster_algo.fit_predict(x)"
   ]
  },
  {
   "cell_type": "code",
   "execution_count": 93,
   "metadata": {},
   "outputs": [
    {
     "data": {
      "text/plain": [
       "array([0, 0, 0, 0, 0, 0, 0, 0, 0, 0, 1, 0, 0, 0, 0, 0, 0, 0, 0, 0, 0, 0,\n",
       "       0, 1, 0, 0, 0, 0, 0, 0, 0, 1, 0, 0, 0, 0, 0, 1, 0, 0, 0, 0, 0, 0,\n",
       "       0, 0, 0, 0, 0, 0, 0, 0, 0, 0, 0, 0, 0, 0, 0, 0, 0, 0, 0, 0, 0, 0,\n",
       "       0, 0, 0, 0, 0, 0, 0, 0, 0, 0, 0, 0, 0, 0, 0, 0, 0, 0, 0, 0, 0, 0,\n",
       "       0, 0, 0, 0, 0, 0, 0, 0, 0, 0, 0, 0, 0, 0, 0, 0, 0, 0, 0, 0, 0, 0,\n",
       "       0, 0, 0, 0, 0, 0, 0, 0, 0, 0, 0, 0, 0, 0, 0, 0, 0, 0, 0, 0, 0, 0,\n",
       "       0, 0, 0, 0, 0, 0, 0, 0, 0, 0, 0, 0, 0, 0, 0, 0, 0, 0, 0, 0, 0, 0,\n",
       "       0, 0, 0, 0, 0, 0, 0, 0, 0, 0, 0, 0, 0, 0, 0, 0, 0, 0, 0, 0, 0, 0,\n",
       "       0, 0, 0, 0, 0, 0, 0, 1, 1, 0, 0, 0, 0, 0, 0, 0, 0, 0])"
      ]
     },
     "execution_count": 93,
     "metadata": {},
     "output_type": "execute_result"
    }
   ],
   "source": [
    "y"
   ]
  },
  {
   "cell_type": "code",
   "execution_count": 94,
   "metadata": {},
   "outputs": [],
   "source": [
    "x['clusters'] = y"
   ]
  },
  {
   "cell_type": "code",
   "execution_count": 95,
   "metadata": {},
   "outputs": [],
   "source": [
    "x.to_excel('cluster.xlsx')"
   ]
  },
  {
   "cell_type": "code",
   "execution_count": null,
   "metadata": {},
   "outputs": [],
   "source": []
  },
  {
   "cell_type": "code",
   "execution_count": null,
   "metadata": {},
   "outputs": [],
   "source": []
  },
  {
   "cell_type": "markdown",
   "metadata": {},
   "source": [
    "### Classificador Perceptron multicamadas."
   ]
  },
  {
   "cell_type": "code",
   "execution_count": 263,
   "metadata": {},
   "outputs": [],
   "source": [
    "train, test = train_test_split(flags, test_size = 0.2)"
   ]
  },
  {
   "cell_type": "code",
   "execution_count": 264,
   "metadata": {},
   "outputs": [],
   "source": [
    "# Separando a variável de saída (\"religião\") das variáveis de entrada\n",
    "x_test = test.drop([\"religion\"], axis = 1)\n",
    "y_test = test.filter(items = [\"religion\"])\n",
    "x_train = train.drop([\"religion\"], axis = 1)\n",
    "y_train = train.filter(items = [\"religion\"])"
   ]
  },
  {
   "cell_type": "code",
   "execution_count": 265,
   "metadata": {},
   "outputs": [],
   "source": [
    "scaler = StandardScaler()\n",
    "scaler.fit(x_train)\n",
    "x_train = scaler.transform(x_train)"
   ]
  },
  {
   "cell_type": "code",
   "execution_count": 266,
   "metadata": {},
   "outputs": [
    {
     "name": "stderr",
     "output_type": "stream",
     "text": [
      "C:\\ProgramData\\Anaconda3\\lib\\site-packages\\sklearn\\neural_network\\_multilayer_perceptron.py:1109: DataConversionWarning: A column-vector y was passed when a 1d array was expected. Please change the shape of y to (n_samples, ), for example using ravel().\n",
      "  y = column_or_1d(y, warn=True)\n"
     ]
    },
    {
     "data": {
      "text/plain": [
       "MLPClassifier(activation='logistic', hidden_layer_sizes=(10, 5),\n",
       "              learning_rate_init=0.3, max_iter=500, momentum=0.2)"
      ]
     },
     "execution_count": 266,
     "metadata": {},
     "output_type": "execute_result"
    }
   ],
   "source": [
    "#Aprendendo o modelo com dados de treinamento\n",
    "mlp = MLPClassifier(hidden_layer_sizes=(10, 5), activation = \"logistic\", learning_rate_init = 0.3, momentum = 0.2, max_iter = 500)\n",
    "mlp.fit(x_train, y_train)"
   ]
  },
  {
   "cell_type": "code",
   "execution_count": 267,
   "metadata": {},
   "outputs": [],
   "source": [
    "# Escalonando as variáveis de entrada de teste\n",
    "scaler.fit(x_test)\n",
    "x_test = scaler.transform(x_test)"
   ]
  },
  {
   "cell_type": "code",
   "execution_count": 268,
   "metadata": {},
   "outputs": [],
   "source": [
    "# Gerar previsões para dados de teste e treinamento\n",
    "train_predictions = mlp.predict(x_train)\n",
    "test_predictions = mlp.predict(x_test)"
   ]
  },
  {
   "cell_type": "code",
   "execution_count": 269,
   "metadata": {},
   "outputs": [
    {
     "name": "stdout",
     "output_type": "stream",
     "text": [
      "training accuracy =  0.9225806451612903\n",
      "test accuracy =  0.5128205128205128\n"
     ]
    }
   ],
   "source": [
    "# Precisão para treinar e testar dados\n",
    "accuracy_train = mlp.score(x_train, y_train)\n",
    "accuracy_test = mlp.score(x_test, y_test)\n",
    "print(\"training accuracy = \", accuracy_train)\n",
    "print(\"test accuracy = \", accuracy_test)"
   ]
  },
  {
   "cell_type": "code",
   "execution_count": null,
   "metadata": {},
   "outputs": [],
   "source": []
  },
  {
   "cell_type": "code",
   "execution_count": null,
   "metadata": {},
   "outputs": [],
   "source": []
  },
  {
   "cell_type": "code",
   "execution_count": null,
   "metadata": {},
   "outputs": [],
   "source": []
  },
  {
   "cell_type": "code",
   "execution_count": null,
   "metadata": {},
   "outputs": [],
   "source": []
  }
 ],
 "metadata": {
  "kernelspec": {
   "display_name": "Python 3",
   "language": "python",
   "name": "python3"
  },
  "language_info": {
   "codemirror_mode": {
    "name": "ipython",
    "version": 3
   },
   "file_extension": ".py",
   "mimetype": "text/x-python",
   "name": "python",
   "nbconvert_exporter": "python",
   "pygments_lexer": "ipython3",
   "version": "3.8.5"
  }
 },
 "nbformat": 4,
 "nbformat_minor": 4
}
